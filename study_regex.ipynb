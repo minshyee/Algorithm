{
    "cells": [
        {
            "cell_type": "code",
            "execution_count": 19,
            "source": [
                "import re"
            ],
            "outputs": [],
            "metadata": {}
        },
        {
            "cell_type": "code",
            "execution_count": 4,
            "source": [
                "p = re.compile(\"a\\d*b\",re.IGNORECASE)\r\n",
                "p.findall(\"a234122B2352Ab\")"
            ],
            "outputs": [
                {
                    "output_type": "execute_result",
                    "data": {
                        "text/plain": [
                            "['a234122B', 'Ab']"
                        ]
                    },
                    "metadata": {},
                    "execution_count": 4
                }
            ],
            "metadata": {}
        },
        {
            "cell_type": "code",
            "execution_count": 5,
            "source": [
                "p = re.compile(\"a\\d*b\")\r\n",
                "p.findall(\"a234122B2352Ab\")"
            ],
            "outputs": [
                {
                    "output_type": "execute_result",
                    "data": {
                        "text/plain": [
                            "[]"
                        ]
                    },
                    "metadata": {},
                    "execution_count": 5
                }
            ],
            "metadata": {}
        },
        {
            "cell_type": "code",
            "execution_count": 8,
            "source": [
                "doc = 'ad      \\t    \\t   \\t how are   \\t  [you today ... asdfjla;joeito;angl;a4o3'\r\n",
                "\r\n",
                "len(re.findall(\"\\s\",doc))"
            ],
            "outputs": [
                {
                    "output_type": "execute_result",
                    "data": {
                        "text/plain": [
                            "27"
                        ]
                    },
                    "metadata": {},
                    "execution_count": 8
                }
            ],
            "metadata": {}
        },
        {
            "cell_type": "code",
            "execution_count": 10,
            "source": [
                "re.findall(\"\\s*\",doc)"
            ],
            "outputs": [
                {
                    "output_type": "execute_result",
                    "data": {
                        "text/plain": [
                            "['',\n",
                            " '',\n",
                            " '      \\t    \\t   \\t ',\n",
                            " '',\n",
                            " '',\n",
                            " '',\n",
                            " ' ',\n",
                            " '',\n",
                            " '',\n",
                            " '',\n",
                            " '   \\t  ',\n",
                            " '',\n",
                            " '',\n",
                            " '',\n",
                            " '',\n",
                            " ' ',\n",
                            " '',\n",
                            " '',\n",
                            " '',\n",
                            " '',\n",
                            " '',\n",
                            " ' ',\n",
                            " '',\n",
                            " '',\n",
                            " '',\n",
                            " ' ',\n",
                            " '',\n",
                            " '',\n",
                            " '',\n",
                            " '',\n",
                            " '',\n",
                            " '',\n",
                            " '',\n",
                            " '',\n",
                            " '',\n",
                            " '',\n",
                            " '',\n",
                            " '',\n",
                            " '',\n",
                            " '',\n",
                            " '',\n",
                            " '',\n",
                            " '',\n",
                            " '',\n",
                            " '',\n",
                            " '',\n",
                            " '',\n",
                            " '',\n",
                            " '',\n",
                            " '',\n",
                            " '']"
                        ]
                    },
                    "metadata": {},
                    "execution_count": 10
                }
            ],
            "metadata": {}
        },
        {
            "cell_type": "code",
            "execution_count": 12,
            "source": [
                "p = re.compile(\"\\s\")\r\n",
                "m = p.findall(doc)"
            ],
            "outputs": [],
            "metadata": {}
        },
        {
            "cell_type": "code",
            "execution_count": 22,
            "source": [
                "doc = '      \\t    \\t   \\t how are   \\t  you today ... asdfjla;joeito;angl;a4o3'\r\n",
                "\r\n",
                "p = re.compile(\"\\s*\")\r\n",
                "m = p.match(doc)\r\n",
                "print(m.span(), m.start(), m.end(), len(m.group()))\r\n",
                "print(doc[m.end():])"
            ],
            "outputs": [
                {
                    "output_type": "stream",
                    "name": "stdout",
                    "text": [
                        "(0, 17) 0 17 17\n",
                        "how are   \t  you today ... asdfjla;joeito;angl;a4o3\n"
                    ]
                }
            ],
            "metadata": {}
        },
        {
            "cell_type": "code",
            "execution_count": 34,
            "source": [
                "#doc = '      \\t    \\t   \\t how are   \\t  you today ... asdfjla;joeito;angl;a4o3'\r\n",
                "\r\n",
                "doc = 'lololololo'\r\n",
                "\r\n",
                "p = re.compile(\"olo\")\r\n",
                "m = p.search(doc)\r\n",
                "print(m.span(), m.start(), m.end(), len(m.group()))\r\n",
                "print(doc[m.end():])\r\n",
                "print(m.group())"
            ],
            "outputs": [
                {
                    "output_type": "stream",
                    "name": "stdout",
                    "text": [
                        "(1, 4) 1 4 3\n",
                        "lololo\n",
                        "olo\n"
                    ]
                }
            ],
            "metadata": {}
        },
        {
            "cell_type": "code",
            "execution_count": 37,
            "source": [
                "doc = 'ololololo'\r\n",
                "p = re.compile(\"olo\")\r\n",
                "m = p.match(doc)\r\n",
                "print(m.span())"
            ],
            "outputs": [
                {
                    "output_type": "stream",
                    "name": "stdout",
                    "text": [
                        "(0, 3)\n"
                    ]
                }
            ],
            "metadata": {}
        },
        {
            "cell_type": "code",
            "execution_count": 41,
            "source": [
                "documents = 'asdfj;laieorkdjf;aliejr;akjdf23k4j;lajds;lasdfjoqweitulad;ai@weutadg;lajoetiuaodkgjierasdkfjqoitlskdnfoqwiekhas;ioew=adgoieaskdfl_asdkfei_asdjkfla****askeasfff{{{{{asdfjowei@@##askdfoie}}}}}'\r\n",
                "\r\n",
                "p = re.compile(\"[a-zA-Z_]\\w*\")\r\n",
                "iterator = p.finditer(documents)\r\n",
                "for match in iterator:\r\n",
                "\tprint(match.span(),match.group())"
            ],
            "outputs": [
                {
                    "output_type": "stream",
                    "name": "stdout",
                    "text": [
                        "(0, 5) asdfj\n",
                        "(6, 16) laieorkdjf\n",
                        "(17, 23) aliejr\n",
                        "(24, 34) akjdf23k4j\n",
                        "(35, 40) lajds\n",
                        "(41, 57) lasdfjoqweitulad\n",
                        "(58, 60) ai\n",
                        "(61, 68) weutadg\n",
                        "(69, 111) lajoetiuaodkgjierasdkfjqoitlskdnfoqwiekhas\n",
                        "(112, 116) ioew\n",
                        "(117, 146) adgoieaskdfl_asdkfei_asdjkfla\n",
                        "(150, 159) askeasfff\n",
                        "(164, 173) asdfjowei\n",
                        "(177, 185) askdfoie\n"
                    ]
                }
            ],
            "metadata": {}
        },
        {
            "cell_type": "code",
            "execution_count": 48,
            "source": [
                "# | :논리연산 OR\r\n",
                "doc = r'\\n for new [line, ] \\section and \\document and \\\\\\section \\n'\r\n",
                "regExp_brackets = \"[\\[\\]]\"\r\n",
                "regExp_slash = \"[\\\\\\]\"\r\n",
                "p = re.compile(regExp_brackets + \"|\" + regExp_slash)\r\n",
                "#p = re.compile(regExp_brackets)\r\n",
                "#p = re.compile(regExp_slash)\r\n",
                "print(p.findall(doc))\r\n",
                "print(len(p.findall(doc)))"
            ],
            "outputs": [
                {
                    "output_type": "stream",
                    "name": "stdout",
                    "text": [
                        "['\\\\', '[', ']', '\\\\', '\\\\', '\\\\', '\\\\', '\\\\', '\\\\']\n",
                        "9\n"
                    ]
                }
            ],
            "metadata": {}
        },
        {
            "cell_type": "code",
            "execution_count": 56,
            "source": [
                "# ^\r\n",
                "m = re.search(\"^From\",\" From Here to Eternity\")\r\n",
                "m.span(), m.group()"
            ],
            "outputs": [
                {
                    "output_type": "error",
                    "ename": "AttributeError",
                    "evalue": "'NoneType' object has no attribute 'span'",
                    "traceback": [
                        "\u001b[1;31m---------------------------------------------------------------------------\u001b[0m",
                        "\u001b[1;31mAttributeError\u001b[0m                            Traceback (most recent call last)",
                        "\u001b[1;32m~\\AppData\\Local\\Temp/ipykernel_13272/3358261390.py\u001b[0m in \u001b[0;36m<module>\u001b[1;34m\u001b[0m\n\u001b[0;32m      1\u001b[0m \u001b[1;31m# ^\u001b[0m\u001b[1;33m\u001b[0m\u001b[1;33m\u001b[0m\u001b[1;33m\u001b[0m\u001b[0m\n\u001b[0;32m      2\u001b[0m \u001b[0mm\u001b[0m \u001b[1;33m=\u001b[0m \u001b[0mre\u001b[0m\u001b[1;33m.\u001b[0m\u001b[0msearch\u001b[0m\u001b[1;33m(\u001b[0m\u001b[1;34m\"^From\"\u001b[0m\u001b[1;33m,\u001b[0m\u001b[1;34m\" From Here to Eternity\"\u001b[0m\u001b[1;33m)\u001b[0m\u001b[1;33m\u001b[0m\u001b[1;33m\u001b[0m\u001b[0m\n\u001b[1;32m----> 3\u001b[1;33m \u001b[0mm\u001b[0m\u001b[1;33m.\u001b[0m\u001b[0mspan\u001b[0m\u001b[1;33m(\u001b[0m\u001b[1;33m)\u001b[0m\u001b[1;33m,\u001b[0m \u001b[0mm\u001b[0m\u001b[1;33m.\u001b[0m\u001b[0mgroup\u001b[0m\u001b[1;33m(\u001b[0m\u001b[1;33m)\u001b[0m\u001b[1;33m\u001b[0m\u001b[1;33m\u001b[0m\u001b[0m\n\u001b[0m",
                        "\u001b[1;31mAttributeError\u001b[0m: 'NoneType' object has no attribute 'span'"
                    ]
                }
            ],
            "metadata": {}
        },
        {
            "cell_type": "code",
            "execution_count": 55,
            "source": [
                "m = re.search(\"From\",\"From Here to Eternity\")\r\n",
                "m.span(), m.group()"
            ],
            "outputs": [
                {
                    "output_type": "execute_result",
                    "data": {
                        "text/plain": [
                            "((0, 4), 'From')"
                        ]
                    },
                    "metadata": {},
                    "execution_count": 55
                }
            ],
            "metadata": {}
        },
        {
            "cell_type": "code",
            "execution_count": 51,
            "source": [
                "m = re.search(\"^From\",\"Reciting From Memory\")\r\n",
                "m.span(), m.group()"
            ],
            "outputs": [
                {
                    "output_type": "error",
                    "ename": "AttributeError",
                    "evalue": "'NoneType' object has no attribute 'span'",
                    "traceback": [
                        "\u001b[1;31m---------------------------------------------------------------------------\u001b[0m",
                        "\u001b[1;31mAttributeError\u001b[0m                            Traceback (most recent call last)",
                        "\u001b[1;32m~\\AppData\\Local\\Temp/ipykernel_13272/3312079231.py\u001b[0m in \u001b[0;36m<module>\u001b[1;34m\u001b[0m\n\u001b[0;32m      1\u001b[0m \u001b[0mm\u001b[0m \u001b[1;33m=\u001b[0m \u001b[0mre\u001b[0m\u001b[1;33m.\u001b[0m\u001b[0msearch\u001b[0m\u001b[1;33m(\u001b[0m\u001b[1;34m\"^From\"\u001b[0m\u001b[1;33m,\u001b[0m\u001b[1;34m\"Reciting From Memory\"\u001b[0m\u001b[1;33m)\u001b[0m\u001b[1;33m\u001b[0m\u001b[1;33m\u001b[0m\u001b[0m\n\u001b[1;32m----> 2\u001b[1;33m \u001b[0mm\u001b[0m\u001b[1;33m.\u001b[0m\u001b[0mspan\u001b[0m\u001b[1;33m(\u001b[0m\u001b[1;33m)\u001b[0m\u001b[1;33m,\u001b[0m \u001b[0mm\u001b[0m\u001b[1;33m.\u001b[0m\u001b[0mgroup\u001b[0m\u001b[1;33m(\u001b[0m\u001b[1;33m)\u001b[0m\u001b[1;33m\u001b[0m\u001b[1;33m\u001b[0m\u001b[0m\n\u001b[0m",
                        "\u001b[1;31mAttributeError\u001b[0m: 'NoneType' object has no attribute 'span'"
                    ]
                }
            ],
            "metadata": {}
        },
        {
            "cell_type": "code",
            "execution_count": 57,
            "source": [
                "# $ : ^의 반대 개념\r\n",
                "#vim에디터ㅢ 경우 : \r\n",
                "m = re.search(\"}$\",\"{block}\")\r\n",
                "m.span(), m.group()"
            ],
            "outputs": [
                {
                    "output_type": "execute_result",
                    "data": {
                        "text/plain": [
                            "((6, 7), '}')"
                        ]
                    },
                    "metadata": {},
                    "execution_count": 57
                }
            ],
            "metadata": {}
        },
        {
            "cell_type": "code",
            "execution_count": 58,
            "source": [
                "m = re.search(\"}$\",r\"{block}\\n\")\r\n",
                "m.span(), m.group()"
            ],
            "outputs": [
                {
                    "output_type": "error",
                    "ename": "AttributeError",
                    "evalue": "'NoneType' object has no attribute 'span'",
                    "traceback": [
                        "\u001b[1;31m---------------------------------------------------------------------------\u001b[0m",
                        "\u001b[1;31mAttributeError\u001b[0m                            Traceback (most recent call last)",
                        "\u001b[1;32m~\\AppData\\Local\\Temp/ipykernel_13272/2391059204.py\u001b[0m in \u001b[0;36m<module>\u001b[1;34m\u001b[0m\n\u001b[0;32m      1\u001b[0m \u001b[0mm\u001b[0m \u001b[1;33m=\u001b[0m \u001b[0mre\u001b[0m\u001b[1;33m.\u001b[0m\u001b[0msearch\u001b[0m\u001b[1;33m(\u001b[0m\u001b[1;34m\"}$\"\u001b[0m\u001b[1;33m,\u001b[0m\u001b[1;34mr\"{block}\\n\"\u001b[0m\u001b[1;33m)\u001b[0m\u001b[1;33m\u001b[0m\u001b[1;33m\u001b[0m\u001b[0m\n\u001b[1;32m----> 2\u001b[1;33m \u001b[0mm\u001b[0m\u001b[1;33m.\u001b[0m\u001b[0mspan\u001b[0m\u001b[1;33m(\u001b[0m\u001b[1;33m)\u001b[0m\u001b[1;33m,\u001b[0m \u001b[0mm\u001b[0m\u001b[1;33m.\u001b[0m\u001b[0mgroup\u001b[0m\u001b[1;33m(\u001b[0m\u001b[1;33m)\u001b[0m\u001b[1;33m\u001b[0m\u001b[1;33m\u001b[0m\u001b[0m\n\u001b[0m",
                        "\u001b[1;31mAttributeError\u001b[0m: 'NoneType' object has no attribute 'span'"
                    ]
                }
            ],
            "metadata": {}
        },
        {
            "cell_type": "code",
            "execution_count": 61,
            "source": [
                "#() : 단일 문자처럼 다루고 싶은 문자들을 모아두는 것\r\n",
                "doc = \"find inthethethethethegroup\"\r\n",
                "p = re.compile(\"(the)+\")\r\n",
                "m = p.search(doc)\r\n",
                "m.span(), m.group()"
            ],
            "outputs": [
                {
                    "output_type": "execute_result",
                    "data": {
                        "text/plain": [
                            "((7, 22), 'thethethethethe')"
                        ]
                    },
                    "metadata": {},
                    "execution_count": 61
                }
            ],
            "metadata": {}
        },
        {
            "cell_type": "code",
            "execution_count": 62,
            "source": [
                "doc = \"find inthethethethethegroup\"\r\n",
                "p = re.compile(\"(the)+\")\r\n",
                "print(p.findall(doc))"
            ],
            "outputs": [
                {
                    "output_type": "stream",
                    "name": "stdout",
                    "text": [
                        "['the']\n"
                    ]
                }
            ],
            "metadata": {}
        },
        {
            "cell_type": "code",
            "execution_count": 68,
            "source": [
                "doc = \"This test, --++**\\\\ is short and sweet ,,... 45u4__&&##buft\"\r\n",
                "p = re.compile(\"\\W+\")\r\n",
                "p.split(doc)"
            ],
            "outputs": [
                {
                    "output_type": "execute_result",
                    "data": {
                        "text/plain": [
                            "['This', 'test', 'is', 'short', 'and', 'sweet', '45u4__', 'buft']"
                        ]
                    },
                    "metadata": {},
                    "execution_count": 68
                }
            ],
            "metadata": {}
        },
        {
            "cell_type": "code",
            "execution_count": 69,
            "source": [
                "#word tokenizer 를 간단히 경험\r\n",
                "doc = \"This test, --++**\\\\ is short and sweet ,,... 45u4__&&##buft\"\r\n",
                "p = re.compile(\"\\w+\")\r\n",
                "p.split(doc)"
            ],
            "outputs": [
                {
                    "output_type": "execute_result",
                    "data": {
                        "text/plain": [
                            "['', ' ', ', --++**\\\\ ', ' ', ' ', ' ', ' ,,... ', '&&##', '']"
                        ]
                    },
                    "metadata": {},
                    "execution_count": 69
                }
            ],
            "metadata": {}
        },
        {
            "cell_type": "code",
            "execution_count": 72,
            "source": [
                "#.sub : 대체하라!\r\n",
                "p = re.compile(\"(blue\\s|white\\s|red\\s)+\")\r\n",
                "p.sub(\"color \", \"blue red shoes and white blue red socks\")"
            ],
            "outputs": [
                {
                    "output_type": "execute_result",
                    "data": {
                        "text/plain": [
                            "'color shoes and color socks'"
                        ]
                    },
                    "metadata": {},
                    "execution_count": 72
                }
            ],
            "metadata": {}
        },
        {
            "cell_type": "code",
            "execution_count": 74,
            "source": [
                "#.sub : 대체하라!\r\n",
                "p = re.compile(\"(blue|white|red)\")\r\n",
                "p.sub(\"color \", \"blue red shoes and white blue red socks\")"
            ],
            "outputs": [
                {
                    "output_type": "execute_result",
                    "data": {
                        "text/plain": [
                            "'color  color  shoes and color  color  color  socks'"
                        ]
                    },
                    "metadata": {},
                    "execution_count": 74
                }
            ],
            "metadata": {}
        },
        {
            "cell_type": "code",
            "execution_count": 79,
            "source": [
                "doc = \"   abd     asd kluoeiur   liueou lkuioe    lieoj \\t sd\"\r\n",
                "print(doc)\r\n",
                "p1 = re.compile(\"\\s+\")\r\n",
                "print(p1.sub(\" \",doc))\r\n",
                "p2 = re.compile(\"^ | $\")\r\n",
                "print(p2.sub(\"\", p1.sub(\" \",doc)))"
            ],
            "outputs": [
                {
                    "output_type": "stream",
                    "name": "stdout",
                    "text": [
                        "   abd     asd kluoeiur   liueou lkuioe    lieoj \t sd\n",
                        " abd asd kluoeiur liueou lkuioe lieoj sd\n",
                        "abd asd kluoeiur liueou lkuioe lieoj sd\n"
                    ]
                }
            ],
            "metadata": {}
        },
        {
            "cell_type": "code",
            "execution_count": null,
            "source": [
                "I always uh do the main um processing, I mean, the uh um data-processing"
            ],
            "outputs": [],
            "metadata": {}
        },
        {
            "cell_type": "code",
            "execution_count": null,
            "source": [
                "def addManuTokens(tokens):\r\n",
                "\tidxes = [addToken(token) for token in tokens]\r\n",
                "\treturn idxes\r\n",
                "\r\n",
                "def lookupToken(token):\r\n",
                "\tif vocab[\"unkTokenTdx\"] >= 0:\r\n",
                "\t\treturn vocab[\"t_2_1\"]"
            ],
            "outputs": [],
            "metadata": {}
        }
    ],
    "metadata": {
        "orig_nbformat": 4,
        "language_info": {
            "name": "python",
            "version": "3.9.1",
            "mimetype": "text/x-python",
            "codemirror_mode": {
                "name": "ipython",
                "version": 3
            },
            "pygments_lexer": "ipython3",
            "nbconvert_exporter": "python",
            "file_extension": ".py"
        },
        "kernelspec": {
            "name": "python3",
            "display_name": "Python 3.9.1 64-bit"
        },
        "interpreter": {
            "hash": "ac59ebe37160ed0dfa835113d9b8498d9f09ceb179beaac4002f036b9467c963"
        }
    },
    "nbformat": 4,
    "nbformat_minor": 2
}