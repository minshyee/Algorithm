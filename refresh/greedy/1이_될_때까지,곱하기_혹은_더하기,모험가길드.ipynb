{
  "nbformat": 4,
  "nbformat_minor": 0,
  "metadata": {
    "colab": {
      "name": "1이 될 때까지, 곱하기 혹은 더하기, 모험가길드.ipynb",
      "provenance": [],
      "authorship_tag": "ABX9TyPrsory2P3u2iBD7MwYEWzv",
      "include_colab_link": true
    },
    "kernelspec": {
      "name": "python3",
      "display_name": "Python 3"
    },
    "language_info": {
      "name": "python"
    }
  },
  "cells": [
    {
      "cell_type": "markdown",
      "metadata": {
        "id": "view-in-github",
        "colab_type": "text"
      },
      "source": [
        "<a href=\"https://colab.research.google.com/github/minshyee/Algorithm/blob/master/refresh/greedy/1%EC%9D%B4_%EB%90%A0_%EB%95%8C%EA%B9%8C%EC%A7%80%2C%EA%B3%B1%ED%95%98%EA%B8%B0_%ED%98%B9%EC%9D%80_%EB%8D%94%ED%95%98%EA%B8%B0%2C%EB%AA%A8%ED%97%98%EA%B0%80%EA%B8%B8%EB%93%9C.ipynb\" target=\"_parent\"><img src=\"https://colab.research.google.com/assets/colab-badge.svg\" alt=\"Open In Colab\"/></a>"
      ]
    },
    {
      "cell_type": "code",
      "source": [
        "# 5'\n",
        "N, K = map(int, input().split())\n",
        "\n",
        "cnt = 0\n",
        "while N>0:\n",
        "  if N%K == 0:\n",
        "    cnt += 1\n",
        "    N=N/K\n",
        "  else:\n",
        "    cnt += int(N%K)\n",
        "    N=N//K\n",
        "print(cnt)"
      ],
      "metadata": {
        "colab": {
          "base_uri": "https://localhost:8080/"
        },
        "id": "CZ7-5YWqIR6p",
        "outputId": "3aee5d2c-4d66-498d-a29c-ad5bba398575"
      },
      "execution_count": 6,
      "outputs": [
        {
          "output_type": "stream",
          "name": "stdout",
          "text": [
            "17 4\n",
            "3\n"
          ]
        }
      ]
    },
    {
      "cell_type": "code",
      "source": [
        "#9'38''\n",
        "N = int(input())\n",
        "gathering = sorted(list(map(int, input().split()))[:N],reverse=True)\n",
        "\n",
        "fear_max = gathering[0]\n",
        "cnt = 1\n",
        "count_guild = 1\n",
        "\n",
        "for i in range(1, N):\n",
        "  if cnt < fear_max:\n",
        "    cnt+=1\n",
        "  else:\n",
        "    cnt = 1\n",
        "    fear_max = gathering[i]\n",
        "    count_guild += 1\n",
        "\n",
        "print(count_guild)"
      ],
      "metadata": {
        "colab": {
          "base_uri": "https://localhost:8080/"
        },
        "id": "4zzddoQqJc7x",
        "outputId": "d65079bf-35ea-45e4-a812-6bc3cb8941aa"
      },
      "execution_count": 14,
      "outputs": [
        {
          "output_type": "stream",
          "name": "stdout",
          "text": [
            "7\n",
            "6 3 4 2 2 2 1\n",
            "2\n"
          ]
        }
      ]
    },
    {
      "cell_type": "code",
      "source": [
        "N = int(input())\n",
        "gathering = sorted(list(map(int, input().split()))[:N])\n",
        "\n",
        "fear_min = gathering[0]\n",
        "cnt = 1\n",
        "count_guild = 0\n",
        "\n",
        "for i in range(1, N):\n",
        "  if cnt < fear_min:\n",
        "    if gathering[i] <= fear_min:\n",
        "      cnt += 1\n",
        "  else:\n",
        "    cnt = 1\n",
        "    fear_min = gathering[i]\n",
        "    count_guild += 1\n",
        "print(count_guild)"
      ],
      "metadata": {
        "colab": {
          "base_uri": "https://localhost:8080/"
        },
        "id": "2HNfX4BWUqu0",
        "outputId": "c3dd6ee3-348f-4b69-bbfa-f13889a48229"
      },
      "execution_count": 22,
      "outputs": [
        {
          "output_type": "stream",
          "name": "stdout",
          "text": [
            "7\n",
            "6 3 4 2 2 2 1\n",
            "1\n",
            "3\n",
            "2\n"
          ]
        }
      ]
    },
    {
      "cell_type": "code",
      "source": [
        "n = int(input())\n",
        "data = list(map(int, input().split()))\n",
        "data.sort()\n",
        "print(data)\n",
        "\n",
        "result = 0\n",
        "count = 0\n",
        "\n",
        "for i in data:\n",
        "  count += 1\n",
        "  if count >= i:\n",
        "    result += 1\n",
        "    count = 0\n",
        "print(result)"
      ],
      "metadata": {
        "colab": {
          "base_uri": "https://localhost:8080/"
        },
        "id": "RrAVKzvETL5B",
        "outputId": "1d99e3e5-dcb6-46ff-94de-9e2ace88c41d"
      },
      "execution_count": 16,
      "outputs": [
        {
          "output_type": "stream",
          "name": "stdout",
          "text": [
            "7\n",
            "6 3 4 2 2 2 1\n",
            "[1, 2, 2, 2, 3, 4, 6]\n",
            "2\n"
          ]
        }
      ]
    },
    {
      "cell_type": "code",
      "source": [
        "#8'57''\n",
        "nums = input()\n",
        "\n",
        "if nums[0] == '0' or nums[0] == '1':\n",
        "  total = int(nums[0])+int(nums[1])\n",
        "  nums = nums[1:]\n",
        "else:\n",
        "  total = int(nums[0])\n",
        "\n",
        "\n",
        "for i in nums[1:]:\n",
        "  if i == '0' or i  == '1':\n",
        "    total += int(i) \n",
        "  else:\n",
        "    total *= int(i)   \n",
        "print(total)"
      ],
      "metadata": {
        "colab": {
          "base_uri": "https://localhost:8080/"
        },
        "id": "IIhBOaXkXhGi",
        "outputId": "fac9d97a-6198-4535-b6b9-373dff9ac306"
      },
      "execution_count": 31,
      "outputs": [
        {
          "output_type": "stream",
          "name": "stdout",
          "text": [
            "567\n",
            "210\n"
          ]
        }
      ]
    },
    {
      "cell_type": "code",
      "source": [
        ""
      ],
      "metadata": {
        "id": "IEtwxk1qYtxx"
      },
      "execution_count": null,
      "outputs": []
    }
  ]
}