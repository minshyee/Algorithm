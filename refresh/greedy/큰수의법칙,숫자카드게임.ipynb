{
  "nbformat": 4,
  "nbformat_minor": 0,
  "metadata": {
    "colab": {
      "name": "큰수의법칙, 숫자카드게임.ipynb",
      "provenance": [],
      "authorship_tag": "ABX9TyN8W89YhBPPceP6pCLzLyU+",
      "include_colab_link": true
    },
    "kernelspec": {
      "name": "python3",
      "display_name": "Python 3"
    },
    "language_info": {
      "name": "python"
    }
  },
  "cells": [
    {
      "cell_type": "markdown",
      "metadata": {
        "id": "view-in-github",
        "colab_type": "text"
      },
      "source": [
        "<a href=\"https://colab.research.google.com/github/minshyee/Algorithm/blob/master/refresh/greedy/%ED%81%B0%EC%88%98%EC%9D%98%EB%B2%95%EC%B9%99%2C%EC%88%AB%EC%9E%90%EC%B9%B4%EB%93%9C%EA%B2%8C%EC%9E%84.ipynb\" target=\"_parent\"><img src=\"https://colab.research.google.com/assets/colab-badge.svg\" alt=\"Open In Colab\"/></a>"
      ]
    },
    {
      "cell_type": "code",
      "execution_count": 17,
      "metadata": {
        "colab": {
          "base_uri": "https://localhost:8080/"
        },
        "id": "LwhQYkfPzMrI",
        "outputId": "2d47bdef-68b1-475c-fd43-a04090253076"
      },
      "outputs": [
        {
          "output_type": "stream",
          "name": "stdout",
          "text": [
            "5 7 2\n",
            "3 4 3 4 3\n",
            "28\n"
          ]
        }
      ],
      "source": [
        "N,M,K = map(int, input().split())\n",
        "array = sorted(list(map(int, input().split()))[:N])\n",
        "\n",
        "total = 0\n",
        "cnt = 0\n",
        "for i in range(M):\n",
        "  if cnt < K:\n",
        "    cnt += 1\n",
        "    total += array[-1]\n",
        "  else:\n",
        "    cnt = 0\n",
        "    total += array[-2]\n",
        "print(sum)"
      ]
    },
    {
      "cell_type": "code",
      "source": [
        "N,M = map(int, input().split())\n",
        "cards = [sorted(list(map(int, input().split()))[:M]) for i in range(N)]\n",
        "\n",
        "result = cards[0][0]\n",
        "\n",
        "for i in range(1,N):\n",
        "  if cards[i][0] > result:\n",
        "    result = cards[i][0]\n",
        "print(result)"
      ],
      "metadata": {
        "colab": {
          "base_uri": "https://localhost:8080/"
        },
        "id": "cwxpXMb01Th9",
        "outputId": "b5433363-0046-4f91-8e8e-36a4e0ea9fb7"
      },
      "execution_count": 21,
      "outputs": [
        {
          "output_type": "stream",
          "name": "stdout",
          "text": [
            "2 4\n",
            "7 3 1 8\n",
            "3 3 3 4\n",
            "3\n"
          ]
        }
      ]
    }
  ]
}