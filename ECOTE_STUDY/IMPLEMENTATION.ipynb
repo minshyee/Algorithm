{
  "nbformat": 4,
  "nbformat_minor": 0,
  "metadata": {
    "colab": {
      "provenance": [],
      "authorship_tag": "ABX9TyMCzTEWz2yF9mWLYv5gpaoS"
    },
    "kernelspec": {
      "name": "python3",
      "display_name": "Python 3"
    },
    "language_info": {
      "name": "python"
    }
  },
  "cells": [
    {
      "cell_type": "markdown",
      "source": [
        "# 7. 럭키 스트레이트\n",
        "## 🏃‍♀️문제 분석\n",
        "- N: 점수\n",
        "- 자리수 왼쪽 = 오른쪽 : LUCKY\n",
        "- 자리수 왼쪽 $\\ne$ 오른쪽 : READY"
      ],
      "metadata": {
        "id": "KZQ2pRn1t7nX"
      }
    },
    {
      "cell_type": "code",
      "source": [
        "score = input()\n",
        "left = 0\n",
        "right = len(score) - 1\n",
        "lval = 0\n",
        "rval = 0\n",
        "\n",
        "if right % 2 == 0: # 점수가 홀수 개 들어오면-> 혹시 모르니까 처리한 부분\n",
        "\tprint('READY')\n",
        "else:\n",
        "\twhile left < right:\n",
        "\t\tlval += int(score[left])\n",
        "\t\trval += int(score[right])\n",
        "\t\tleft += 1\n",
        "\t\tright -= 1\n",
        "\tif lval == rval:\n",
        "\t\tprint('LUCKY')\n",
        "\telse:\n",
        "\t\tprint('READY')"
      ],
      "metadata": {
        "id": "Uv7Fwb_6t7SZ"
      },
      "execution_count": null,
      "outputs": []
    },
    {
      "cell_type": "markdown",
      "source": [
        "# 8. 문자열 재정렬\n",
        "## 🏃‍♀️문제 분석\n",
        "- 문자열로만 구성\n",
        "- 문자열끼리 정렬, 숫자는 합으로\n",
        "### 📌기억하기\n",
        "- `isnumeric()` 함수 사용하는게 좀 더 합리적일 수 있음!\n"
      ],
      "metadata": {
        "id": "tgpvbk8zL3db"
      }
    },
    {
      "cell_type": "code",
      "source": [
        "string = input()\n",
        "s = 0\n",
        "new = []\n",
        "\n",
        "for i in string:\n",
        "    if i >= '1'  and i <= '9':\n",
        "        s += int(i)\n",
        "    else:\n",
        "        new.append(i)\n",
        "new.sort()\n",
        "print(''.join(new) + str(s))"
      ],
      "metadata": {
        "id": "KMDgASnyglof"
      },
      "execution_count": null,
      "outputs": []
    },
    {
      "cell_type": "markdown",
      "source": [
        "# 9. 문자열 압축\n",
        "## 🏃‍♀️ 문제 분석\n",
        "- 압축된 문자열 중 가장 짧은 문자열을 만들 것!\n",
        "  - 1 <= s <= 1000\n",
        "  - s는 소문자로만 이루어짐\n",
        "  - 문자열 단위는 길어져도 됨!"
      ],
      "metadata": {
        "id": "00oVG-31MQjm"
      }
    },
    {
      "cell_type": "code",
      "source": [
        "#풀었다...! 감격!!\n",
        "\n",
        "# s = 'abcabcabcabcdededededede'\n",
        "# s='xababcdcdababcdcd'\n",
        "# s='aabbaccc'\n",
        "# s='abcabcdede'\n",
        "# s='aaaaaaaaaabbbbbbbbbb'\n",
        "# s='a'\n",
        "# s='aaaaa'\n",
        "# s='aaaaaaaaaaaaaaa'\n",
        "# s='ababcdcdabababcdcdabababcdcdabababcdcdabababcdcdabababcdcdabababcdcdabababcdcdabababcdcdabababcdcdabababcdcdabababcdcdabababcdcdabababcdcdabababcdcdabababcdcdabababcdcdabababcdcdabababcdcdabababcdcdabababcdcdabababcdcdabababcdcdabababcdcdabababcdcdabababcdcdabababcdcdabababcdcdabababcdcdabababcdcdabababcdcdabababcdcdabababcdcdabababcdcdabababcdcdabababcdcdabababcdcdabababcdcdabababcdcdabababcdcdabababcdcdabababcdcdabababcdcdabababcdcdabababcdcdabababcdcdabababcdcdabababcdcdabababcdcdabababcdcdabababcdcdabababcdcdabababcdcdabababcdcdabababcdcdabababcdcdabababcdcdabababcdcdabababcdcdabababcdcdabababcdcdabababcdcdabababcdcdabababcdcdabababcdcdabababcdcdabababcdcdabababcdcdabababcdcdabababcdcdabababcdcdabababcdcdabababcdcdabababcdcdabababcdcdabababcdcdabababcdcdabababcdcdabababcdcdabababcdcdabababcdcdabababcdcdabababcdcdabababcdcdabababcdcdabababcdcdabababcdcdabababcdcdabababcdcdabababcdcdabababcdcdabababcdcdabababcdcdabababcdcdabababcdcdabababcdcdabababcdcdabababcdcdabababcdcdabababcdcdab'\n",
        "# s='xztjabcdabcd'\n",
        "# s='acdhdh'\n",
        "# s='aaaaaaaaaaaabcd'\n",
        "# s='xxxxxxxxxxyyy' 반례 # 셀때 한번에 셌으니까 안되지 바보야\n",
        "\n",
        "\n",
        "res = []\n",
        "if len(s) < 2: print(len(s))\n",
        "for zip_len in range(1,len(s)//2+1): # 압축가능한 최대 길이는 전체 길이 // 2만큼\n",
        "  cnt = 0\n",
        "  check = 0\n",
        "  ch_cnt = 0\n",
        "  diff = 0\n",
        "  extra = 0\n",
        "  answer = 0\n",
        "  pattern_prev = 0\n",
        "  pattern_init = s[:zip_len]\n",
        "  print('패턴',pattern_init)\n",
        "\n",
        "  for i in range(zip_len,len(s)+1,zip_len):\n",
        "    compare = s[i:i+zip_len]\n",
        "    \n",
        "    print('cmp', s[i:i+zip_len])\n",
        "    if len(compare) < zip_len:\n",
        "      extra += len(compare)\n",
        "      print('들어옴', len(compare))\n",
        "      break\n",
        "    if pattern_init==compare:\n",
        "      check+=1\n",
        "      if pattern_prev != pattern_init:\n",
        "        print('혹시 또 다른 패턴이 있니?')\n",
        "        pattern_prev = pattern_init\n",
        "        check+=1\n",
        "        cnt+=1\n",
        "        diff-=1\n",
        "    else:\n",
        "      diff+=1\n",
        "      pattern_prev = pattern_init\n",
        "      pattern_init = compare\n",
        "      ch_cnt += len(str(check)) if check > 1 else 0\n",
        "      check=0\n",
        "\n",
        "  ch_cnt += len(str(check)) if check > 1 else 0\n",
        "  print(f'자리수 {ch_cnt}, 패턴개수 {cnt} 다른 문자조각 {diff+1}')\n",
        "  answer = (diff+1)*zip_len + cnt*(zip_len) + extra + ch_cnt\n",
        "  print('---ans',answer)\n",
        "  res.append(answer)\n",
        "print(res)\n",
        "print('답',min(res))"
      ],
      "metadata": {
        "id": "A-byra9WMzGe"
      },
      "execution_count": null,
      "outputs": []
    },
    {
      "cell_type": "code",
      "source": [
        "# 코드 정리된 버전\n",
        "def solution(s):\n",
        "    res = []\n",
        "    if len(s) < 2: return len(s)\n",
        "    for zip_len in range(1,len(s)//2+1):\n",
        "        cnt = 0\n",
        "        check = 0\n",
        "        ch_cnt = 0\n",
        "        diff = 0\n",
        "        extra = 0\n",
        "        pattern_prev = 0\n",
        "        pattern_init = s[:zip_len]\n",
        "        for i in range(zip_len, len(s)+1, zip_len):\n",
        "            compare = s[i:i+zip_len]\n",
        "            if len(compare) < zip_len:\n",
        "                extra += len(compare)\n",
        "                break\n",
        "            if pattern_init == compare:\n",
        "                check+=1\n",
        "                if pattern_prev != pattern_init:\n",
        "                    pattern_prev = pattern_init\n",
        "                    check+=1\n",
        "                    cnt+=1\n",
        "                    diff-=1\n",
        "            else:\n",
        "                diff+=1\n",
        "                pattern_prev = pattern_init\n",
        "                pattern_init = compare\n",
        "                ch_cnt += len(str(check)) if check > 1 else 0\n",
        "                check = 0\n",
        "\n",
        "        ch_cnt += len(str(check)) if check > 1 else 0\n",
        "        res.append((diff+1)*zip_len + (cnt*zip_len + extra +ch_cnt))\n",
        "    return min(res)     "
      ],
      "metadata": {
        "id": "ct_OWpZk3x-U"
      },
      "execution_count": null,
      "outputs": []
    },
    {
      "cell_type": "code",
      "source": [
        "# 이코테 답안\n",
        "def solution(s):\n",
        "\n",
        "    # 주어진 문자열의 길이로 최소 압축 길이 초기화\n",
        "    answer = len(s)\n",
        "\n",
        "    # 탐색 단위 수를 1부터 문자열 중간 길이까지 늘려가며 확인\n",
        "    for step in range(1, (len(s)//2)+1):\n",
        "\n",
        "        # 결과 문자열\n",
        "        compressed = \"\"    \n",
        "        # 첫 탐색 단위\n",
        "        prev = s[0:step]\n",
        "        # 동일한 탐색 단위의 개수\n",
        "        count = 1\n",
        "\n",
        "        # 탐색 인덱스를 탐색 단위만큼 증가시키며, 이전 탐색 단위와 비교\n",
        "        for idx in range(step, len(s), step):\n",
        "\n",
        "            # 현재 탐색 단위를 슬라이싱\n",
        "            now = s[idx:idx+step]\n",
        "            # 현재 탐색 단위가 이전 탐색 단위와 같다면\n",
        "            if (now == prev):\n",
        "                count += 1\n",
        "            # 현재 탐색 단위가 이전 탐색 단위와 다르다면\n",
        "            else:\n",
        "                if (count >= 2):\n",
        "                    compressed += str(count) + prev\n",
        "                else:\n",
        "                    compressed += prev\n",
        "                prev = now\n",
        "                count = 1\n",
        "\n",
        "        # 남아있는 문자열에 대해 처리\n",
        "        if (count >= 2):\n",
        "            compressed += str(count) + prev\n",
        "        else:\n",
        "            compressed += prev    \n",
        "\n",
        "        # 탐색 단위별로 압축 문자열의 길이를 비교해, 최소 압축 문자열의 길이를 저장\n",
        "        min_len = min(answer, len(compressed))\n",
        "\n",
        "    return min_len"
      ],
      "metadata": {
        "id": "KWaJ0YvE0yti"
      },
      "execution_count": null,
      "outputs": []
    },
    {
      "cell_type": "markdown",
      "source": [
        "## 🔐 정답 분석\n",
        "### 📌 기억할것!\n",
        "- 탐색 데이터가 1000이하 -> 완전 탐색 가능\n",
        "- 테스트케이스 고려하기!\n",
        "  - 내 풀이에서 막혔던 부분\n",
        "    - 반복되는 문자열이 2종류인데, 하나는 10개가 넘어가고 하나는 안 넘어가는 경우에 문제가 생겼음\n",
        "    - 패턴 별로 따로 세고, 문자열로 변경하여 자릿 수를 더해주는 방식으로 해결!"
      ],
      "metadata": {
        "id": "GG5SznTM1tGk"
      }
    },
    {
      "cell_type": "markdown",
      "source": [
        "# 10. 자물쇠와 열쇠\n",
        "## 🏃‍♀️문제 분석\n",
        "- 자물쇠의 홈과 열쇠의 돌기가 딱 맞아야 함\n",
        "  - 돌기, 돌기 / 홈, 홈 은 만나면 안됨\n",
        "  - 열 수 있으면 True, 안되면 False\n",
        "- key M * M (3 <= M <=20)\n",
        "  - 회전과 이동 가능 \n",
        "- lock N * N (3 <= N <=20)\n",
        "- M <= N\n",
        "- 0: 홈, 1:돌기\n"
      ],
      "metadata": {
        "id": "IT_NuzX-NUFU"
      }
    },
    {
      "cell_type": "code",
      "source": [
        "# 2차원 리스트 90도 회전하기\n",
        "def rotate_a_matrix_by_90_degree(a):\n",
        "    n = len(a) # 행 길이 계산\n",
        "    m = len(a[0]) # 열 길이 계산\n",
        "    result = [[0] * n for _ in range(m)] # 회전된 결과 리스트\n",
        "    # 모든 요소값을 90도 회전\n",
        "    for i in range(n):\n",
        "        for j in range(m):\n",
        "            result[j][n - i - 1] = a[i][j]\n",
        "    return result\n",
        "\n",
        "# 자물쇠의 홈부분이 모두 1로 채워졌는지 확인\n",
        "def check(new_lock):\n",
        "    for i in range(len(new_lock)//3, (len(new_lock)//3)*2):\n",
        "        for j in range(len(new_lock)//3, (len(new_lock)//3)*2):\n",
        "            if new_lock[i][j] != 1:\n",
        "                return False\n",
        "    return True\n",
        "\n",
        "def solution(key, lock):\n",
        "    # 자물쇠의 크기 측정\n",
        "    n = len(lock)\n",
        "    # 열쇠의 크기 측정\n",
        "    m = len(key)\n",
        "    # 자물쇠의 크기 확장\n",
        "    new_lock = [[0]*(n*3) for _ in range(n*3)]\n",
        "\n",
        "    # 새로운 자물쇠의 중앙 부분에 기존의 자물쇠 넣기\n",
        "    for i in range(n):\n",
        "        for j in range(n):\n",
        "            new_lock[i+n][j+n] = lock[i][j]\n",
        "\n",
        "    # 열쇠를 회전한 뒤, 해당 열쇠로 자물쇠를 탐색하며, 이를 반복함\n",
        "    for _ in range(4):\n",
        "        # 열쇠 회전\n",
        "        key = rotate_a_matrix_by_90_degree(key)\n",
        "\n",
        "        for i in range(n*2):\n",
        "            for j in range(n*2):\n",
        "                # 자물쇠에 열쇠 채우기\n",
        "                for k in range(m):\n",
        "                    for l in range(m):\n",
        "                        new_lock[i+k][j+l] += key[k][l]\n",
        "\n",
        "                # 자물쇠의 홈부분이 모두 1로 채워졌는지 확인\n",
        "                if (check(new_lock) == True):\n",
        "                    return True\n",
        "\n",
        "                # 자물쇠에서 열쇠 다시 빼기\n",
        "                for k in range(m):\n",
        "                    for l in range(m):\n",
        "                        new_lock[i+k][j+l] -= key[k][l]\n",
        "\n",
        "    return False"
      ],
      "metadata": {
        "id": "DxEuoY5SN9Iv"
      },
      "execution_count": null,
      "outputs": []
    },
    {
      "cell_type": "markdown",
      "source": [
        "## 🔐 정답 분석\n",
        "### 📌 기억할것!\n",
        "- 파이썬은 1초에 2000만에서 1억 정도의 연산 가능! -> 이 이하의 경우의 수는 완전 탐색이 가능하다고 볼 수 있음\n",
        "- 키가 밖으로 나가도 되므로 자물쇠 보드를 키워서 생각 -> 넘어가는 경우의 수도 쉽게 연산할 수 있음!\n",
        "- 2차원 함수 90도 회전하는 함수는 자주 쓰임 코드 기억해 두기!"
      ],
      "metadata": {
        "id": "_jTGL9YM2jrn"
      }
    },
    {
      "cell_type": "markdown",
      "source": [
        "# 11. 뱀\n",
        "## 🏃‍♀️문제 분석\n",
        "- 사과의 위치와 뱀의 이동 경로가 주어질 때 이 게임이 몇 초에 끝나는지 \n",
        "- board : N * N (2≤ N ≤ 100)\n",
        "- 사과의 개수 : K (0≤ K≤ 100)\n",
        "  - 맨 위 맨 좌측(1행 1열)에는 사과 없음\n",
        "- 뱀의 방향 변환 횟수 L (1≤ L≤ 100)\n",
        "  - 게임 시작 시간으로부터 X초가 끝난 뒤에 왼쪽(C가 ‘L’) 또는 오른쪽(C가 ‘D’)으로 90도 방향을 회전시킨다는 뜻\n",
        "  - 0 < X <= 1e4\n",
        "  - X 기준 오름차순\n",
        "- < Rule >\n",
        "  1. 먼저 뱀은 몸길이를 늘려 머리를 다음 칸에 위치시킵니다.\n",
        "  2. 만약 이동한 칸에 사과가 있다면, 그 칸에 있던 사과가 없어지고 꼬리는 움직이지 않습니다.\n",
        "  3. 만약 이동한 칸에 사과가 없다면, 몸 길이를 줄여서 꼬리가 위치한 킨을 비워줍니다. 즉, 몸길이는 변하지 않습니다.\n"
      ],
      "metadata": {
        "id": "s86UrGdPNiwq"
      }
    },
    {
      "cell_type": "code",
      "source": [
        "# 5 뱀\n",
        "n = int(input()) # size of board\n",
        "k = int(input()) # number of apple\n",
        "\n",
        "board = [[0]*n for i in range(n)]\n",
        "\n",
        "turn = [] #snake turn info\n",
        "\n",
        "for q in range(k):\n",
        "\tplace = list(map(int, input().split()))\n",
        "\tboard[place[0]-1][place[1]-1] = 1\n",
        "\n",
        "l = int(input())\n",
        "for i in range(l):\n",
        "\tt = list(input().split())\n",
        "\tt[0] = int(t[0])\n",
        "\tturn.append(t)\n",
        "\n",
        "time = 0\n",
        "d_ind = 0\n",
        "snake =[[0,0]]\n",
        "col = 0 #x\n",
        "row = 0 #y\n",
        "dc = [0,1,0,-1]\n",
        "dr = [1,0,-1,0]\n",
        "\n",
        "board[row][col] = 2\n",
        "\n",
        "while True:\n",
        "\tif turn and turn[0][0] == time:\n",
        "\t\tif turn[0][1] == 'D':\n",
        "\t\t\td_ind = (d_ind + 1) % 4\n",
        "\t\telse:\n",
        "\t\t\td_ind = (d_ind - 1) % 4\n",
        "\n",
        "\t\tturn.remove(turn[0])\n",
        "\n",
        "\tx = col + dc[d_ind]\n",
        "\ty = row + dr[d_ind]\n",
        "\tif x > n-1 or y > n-1 or x < 0 or y < 0:\n",
        "\t\ttime += 1\n",
        "\t\tbreak\n",
        "\tsnake.append([x,y])\n",
        "\tif board[x][y] == 1:\n",
        "\t\tboard[x][y] = 2\n",
        "\telif board[x][y] == 2:\n",
        "\t\ttime += 1\n",
        "\t\tbreak\n",
        "\telse:\n",
        "\t\tboard[x][y] = 2\n",
        "\t\ttail = snake.pop(0)\n",
        "\t\tboard[tail[0]][tail[1]] = 0\n",
        "\n",
        "\tcol = x\n",
        "\trow = y\n",
        "\ttime += 1\n",
        "\n",
        "print(time)"
      ],
      "metadata": {
        "id": "y7tiUf4ZvsfE"
      },
      "execution_count": null,
      "outputs": []
    },
    {
      "cell_type": "code",
      "source": [
        "# 1 이코테 답안\n",
        "n= int(input())\n",
        "k= int(input())\n",
        "data= [[0]* (n+1) for _ in range(n+1)]\n",
        "info= []\n",
        "\n",
        "for _ in range(k):\n",
        "\ta, b= map(int, input().split())\n",
        "\tdata[a][b]= 1\n",
        "\n",
        "l= int(input())\n",
        "for _ in range(l):\n",
        "\tx, c= input().split()\n",
        "info.append((int(x), c))\n",
        "\n",
        "dx= [0, 1, 0, -1]\n",
        "dy= [1, 0, -1, 0]\n",
        "\n",
        "def turn(direction, c):\n",
        "\tif c==\"L\":\n",
        "\t\tdirection= (direction- 1) %4\n",
        "\telse:\n",
        "\t\tdirection = (direction + 1)% 4\n",
        "\treturn direction\n",
        "\n",
        "def simulate():\n",
        "\tx, y= 1, 1\n",
        "\tdata[x][y]= 2\n",
        "\tdirection= 0\n",
        "\ttime= 0\n",
        "\tindex= 0\n",
        "\tq= [(x, y)]\n",
        "\twhile True:\n",
        "\t\tnx= x+ dx[direction]\n",
        "\t\tny= y+ dy[direction]\n",
        "\n",
        "\t\tif 1<= nx and nx<= n and 1<= ny and ny< n and data[nx][ny]!= 2:\n",
        "\t\t\tif data[nx][my]== 0:\n",
        "\t\t\t\tdata[nx][ny]= 2\n",
        "\t\t\t\tq.append((nx, ny))\n",
        "\t\t\t\tpx, py= q.pop(0)\n",
        "\t\t\t\tdata[px][py]= 0\n",
        "\n",
        "\t\t\tif data[nx][ny]== 1:\n",
        "\t\t\t\tdata[nx][ny]= 2\n",
        "\t\t\t\tq.append((nx, ny))\n",
        "\t\t\n",
        "\t\telse:\n",
        "\t\t\ttime+= 1\n",
        "\t\t\tbreak\n",
        "\n",
        "\t\tx, y= nx, ny\n",
        "\t\ttime+= 1\n",
        "\n",
        "\t\tif index< 1 and time== info[index][0]:\n",
        "\t\t\tdirection= turn(direction, info[index][1])\n",
        "\t\t\tindex+= 1\n",
        "\n",
        "\t\treturn time"
      ],
      "metadata": {
        "id": "y3RaZ6cd3SKB"
      },
      "execution_count": null,
      "outputs": []
    },
    {
      "cell_type": "markdown",
      "source": [
        "## 🔐 정답 분석\n",
        "### 📌 기억할것!\n",
        "- 동서남북 위치이동 방법은 꼭 기억해 두기!\n",
        "- 떠오르지 않는다면, 직접 그려보기"
      ],
      "metadata": {
        "id": "lN8UqYmU3MIH"
      }
    },
    {
      "cell_type": "markdown",
      "source": [
        "# 12. 기둥과 보\n",
        "## 🏃‍♀️문제 분석\n",
        "- buiil_frame 내부의 작업을 모두 수행한 구조물의 상태 return\n",
        "- board : n * n (5 <= n <= 100)\n",
        "  - (1,1)은  비어있음\n",
        "- build_frame : 벽면의 크기 n, 기둥과 보를 설치하거나 삭제하는 작업이 순서대로 담김\n",
        "  - 세로(행) 1<= <=1000\n",
        "  - 가로(열) 4\n",
        "  -  [x, y, a, b] \n",
        "    1. x, y는 기둥, 보를 설치 또는 삭제할 교차점의 좌표이며, [가로좌표, 세로좌표] 형태입니다.\n",
        "    2. a는 설치 또는 삭제할 구조물의 종류를 나타내며, 0은 기둥, 1은 보를 나타냅니다.\n",
        "    3. b는 구조물을 설치할 지, 혹은 삭제할 지를 나타내며 0은 삭제, 1은 설치를 나타냅니다.\n",
        "    4. 벽면을 벗어나게 기둥, 보를 설치하는 경우는 없습니다.\n",
        "    5. 바닥에 보를 설치하는 경우는 없습니다.\n",
        "    6. 구조물은 교차점 좌표를 기준으로 오른쪽, 기둥은 위쪽 방향으로 설치 또는 삭제 합니다.\n",
        "    7. 구조물이 겹치도록 설치하는 경우와 없는 구조물을 삭제하는 경우는 입력으로 주어지지 않습니다.\n",
        "- < Rule >\n",
        "  1. 기둥은 바닥 위에 있거나 보의 한쪽 끝부분 위에 있거나, 또는 다른 기둥 위에 있어야 합니다.\n",
        "  2. 보는 한쪽 끝부분이 기둥 위에 있거나, 또는 양쪽 끝부분이 다른 보와 동시에 연결되어 있어야 합니다.\n",
        "- RETURN\n",
        "  1. return 하는 배열은 가로(열) 길이가 3인 2차원 배열로, 각 구조물의 좌표를 담고 있어야 합니다.\n",
        "  2. return 하는 배열의 원소는 [x, y, a] 형식입니다.\n",
        "  3. x, y,는 기둥, 보의 교차점 좌표이며, [가로좌표, 세로좌표] 형태입니다.\n",
        "  4. 기둥, 보는 교차점 좌표를 기준으로 오른쪽, 또는 위쪽 방향으로 설치되어 있음을 나타냅니다.\n",
        "  5. a는 구조물의 종류를 나타내며, 0은 기둥, 1은 보를 나타냅니다.\n",
        "  6. return하는 배열은 x좌표 기준으로 오름차순 정렬하며, x좌표가 같을 경우 y좌표 기준으로 오름차순 정렬해주세요.\n",
        "  7. x, y좌표가 모두 같은 경우 기둥이 보 보다 앞에 오면 됩니다.\n"
      ],
      "metadata": {
        "id": "ggC_GFPcNjk_"
      }
    },
    {
      "cell_type": "code",
      "source": [
        "# 내풀이 없음,,, 문제,,, 이해 못함\n",
        "def possible(answer): # 현재 설치된 구조물이 '가능한' 구조물인지 확인하는 함수\n",
        "\tfor x, y, stuff in answer: \n",
        "\t\tif stuff == 0: \n",
        "      # 바닥 위 / 보의 한쪽 끝 위 / 다른 기둥 위\n",
        "\t\t\tif y== 0 or [x-1,y, 1] in answer or [x, y, 1] in answer or [x, y-1, 0] in answer:\n",
        "\t\t\t\tcontinue\n",
        "\t\t\treturn False\n",
        "\t\telif stuff== 1:\n",
        "\t\t\t# 한 쪽 끝 기둥 위 / 양쪽 끝 다른 보와 동시에 연결\n",
        "      if [x, y-1, 0] in answer or [x+1, y-1, 0]in answer or ([x-1], y, 1] in answer and [x+1, y, 1] in answer):\n",
        "\t\t\t\tcontinue\n",
        "\t\treturn False\n",
        "\treturn True\n",
        "\n",
        "def solution(n, build_frame):\n",
        "\tanswer=[]\n",
        "\tfor frame in build_frame:\n",
        "\t\tx, y, stuff, operate= frame\n",
        "\t\tif operate== 0: # 삭제 경우\n",
        "\t\t\tanswer.remove([x, y, stuff]) \n",
        "\t\t\tif not possible(answer): # 가능한지 확인\n",
        "\t\t\t\tanswer.append([x, y, stuff]) # 가능한 구조물 아니면 다시 설치\n",
        "\n",
        "\t\tif operate== 1: # 설치 경우\n",
        "\t\t\tanswer.append([x, y, stuff])\n",
        "\t\t\tif not possible(answer): # 가능한지 확인\n",
        "\t\t\t\tanswer.remove([x, y, stuff]) # 아니면 다시 제거\n",
        "\n",
        "return sorted(answer) # 정렬하여 반환"
      ],
      "metadata": {
        "id": "I2BMPTFFvuc6"
      },
      "execution_count": null,
      "outputs": []
    },
    {
      "cell_type": "markdown",
      "source": [
        "# 13. 치킨 배달\n",
        "## 🏃‍♀️ 문제 분석\n",
        "- 도시의 치킨거리가 최소가 되어야 + M개의 치킨집만 남긴다.\n",
        "  - 도시의 치킨 거리는 모든 집의 치킨 거리 합\n",
        "  - 치킨 거리는 집과 가장 가까운 치킨집과의 거리\n",
        "\n",
        "- 맵 : 크기 N * N\n",
        "  - 2 <= N <=50\n",
        "- r,c는 1부터 시작\n",
        "- 0 : 빈칸 / 1 : 집 / 2 : 치킨집\n",
        "  - 1 < 집의 수 < 2N\n",
        "- 거리는 | 집r - 치킨집r | + |집c - 치킨집c| 로 계산\n",
        "- 최대 치킨 집 수 1 <= M <= 13\n"
      ],
      "metadata": {
        "id": "J_6tgrfsgGSU"
      }
    },
    {
      "cell_type": "code",
      "source": [
        "# 내 풀이 -> 스터디 하고 다시 풀어봄\n",
        "N, M = 5, 1\n",
        "# map = [[0,2,0,1,0],\n",
        "#        [1,0,1,0,0],\n",
        "#        [0,0,0,0,0],\n",
        "#        [2,0,0,1,1],\n",
        "#        [2,2,0,1,2]]\n",
        "map = [[1,2,0,0,0],\n",
        "       [1,2,0,0,0],\n",
        "       [1,2,0,0,0],\n",
        "       [1,2,0,0,0],\n",
        "       [1,2,0,0,0]]\n",
        "\n",
        "from itertools import combinations\n",
        "info = {1:[],2:[]}\n",
        "\n",
        "for i in range(N):\n",
        "  for j in range(N):\n",
        "    if map[i][j] == 1:\n",
        "      info[1].append((i+1,j+1))\n",
        "    elif map[i][j] == 2:\n",
        "      info[2].append((i+1, j+1))\n",
        "\n",
        "distances = []\n",
        "for comb in list(combinations(info[2], M)):\n",
        "  # print(comb)\n",
        "  res = 0\n",
        "  for i in info[1]:\n",
        "    dist=1000000\n",
        "    for j in comb:\n",
        "      dist = min(abs(i[0] - j[0]) + abs(i[1]-j[1]), dist)\n",
        "    res += dist\n",
        "  distances.append(res)\n",
        "print(distances)\n",
        "print('답', min(distances))\n",
        "    "
      ],
      "metadata": {
        "colab": {
          "base_uri": "https://localhost:8080/"
        },
        "id": "Nh04J53QjXb0",
        "outputId": "b800e7f7-2c33-4f87-dd2a-ff8efd0a231b"
      },
      "execution_count": null,
      "outputs": [
        {
          "output_type": "stream",
          "name": "stdout",
          "text": [
            "[15, 12, 11, 12, 15]\n",
            "답 11\n"
          ]
        }
      ]
    },
    {
      "cell_type": "markdown",
      "source": [
        "# 14. 외벽 점검\n",
        "\n",
        "## 🏃‍♀️ 문제 분석\n",
        "- 취약 지점을 점검하기 위해 보내야 하는 최소 친구의 수\n",
        "- 외벽의 총 둘레는 1<= n <= 200\n",
        "- weak 취약지점의 정북 방향(0)으로부터의 거리 \n",
        "  - 0<= len(weak) <= 15\n",
        "  - 0 <= weak[i] < n\n",
        "- dist : 각 친구가 이동할 수 있는 거리\n",
        "  - 0<= len(dist) <= 8\n",
        "  - 0 <= dist[i] <= 100\n",
        "  - 각 친구는 반시계 혹은 시계 방향으로 이동할 수 있음\n",
        "- 취약지점을 전부 점검할 수 없는 경우 -> -1\n"
      ],
      "metadata": {
        "id": "VaTN0hytMNGD"
      }
    },
    {
      "cell_type": "code",
      "source": [
        "# 내 풀이가 없다... 문제 분석하기\n",
        "\n",
        "from itertools import permutations\n",
        "\n",
        "def solution(n, weak, dist):\n",
        "  w_length = len(weak)\n",
        "  # 길이를 2배로 늘려 원형 -> 일자\n",
        "  for i in range(w_length):\n",
        "    weak.append(weak[i] + n)\n",
        "    # [1,5,6,10] -> [1, 5, 6, 10, 1+12, 5+12, 6+12, 10+12]\n",
        "  answer = len(dist) + 1 # 나올 수 있는 최대 값보다 1큰 값 -> 최소를 구하기 위해 최대에서 시작\n",
        "  \n",
        "  # 0부터 length -1까지 모두 시작점으로 설정하여 돌아보기 \n",
        "  for start in range(w_length):\n",
        "    for friends in list(permutations(dist, len(dist))): # 가능한 모든 조함에 대해서 탐색 \n",
        "  # 모든 시작점에 대해 가능한 모든 친구 조합으로 확인하기 -> 완전 탐색    \n",
        "      count=1 # 투입할 친구의 수\n",
        "      position = weak[start] + friends[count-1] # 투입된 친구가 점검 가능한 마지막 위치\n",
        "      for idx in range(start, start + w_length): # 시작점부터 모든 취약 지점을 확인\n",
        "        # 점검 가능한 위치를 벗어나면\n",
        "        if position < weak[idx]:\n",
        "          count += 1 # 새로운 친구 투임\n",
        "          if count > len(dist): # 더 추가할 새로운 친구가 없다면 종료\n",
        "            break\n",
        "          position = weak[idx] + friends[count-1] # 새로운 친구가 들어와 점검 가능한 마지막 위치 업데이트 됨\n",
        "      answer = min(answer, count) # 최소값으로 답 갱신\n",
        "  # 다 처리하지 못했으면\n",
        "  if answer > len(dist):\n",
        "    return -1\n",
        "  return answer"
      ],
      "metadata": {
        "id": "rcphuCi-PkbW"
      },
      "execution_count": null,
      "outputs": []
    },
    {
      "cell_type": "markdown",
      "source": [
        "## 🔐 정답 분석\n",
        "### 📌 기억할것!\n",
        "- 문제에서 확인할 데이터의 크기가 작다 -> 완전탐색으로 해결\n",
        "  - 투입해야 할 친구 수의 최솟값을 구해야 함\n",
        "  - 이 문제에서 가능한 전체 친구의 수 8\n",
        "  - 그러므로 모든 친구를 무작위로 나열하더라도 $_{8}\\mathrm{P}_{8}$=8! = 40,320 \n",
        "  \n",
        "- 원형으로 나열된 데이터 -> 길이를 2배로 늘려 원형을 일자로 변경"
      ],
      "metadata": {
        "id": "dRddkvSbT0Tf"
      }
    },
    {
      "cell_type": "code",
      "source": [
        "# 다른 풀이\n",
        "from collections import deque\n",
        "\n",
        "def solution(n, weak, dist):\n",
        "    dist.sort(reverse=True) # 거리 내림차순으로 정렬(최솟값을 찾아야 하므로 큰애들부터 탐색)\n",
        "    print(dist)\n",
        "    q = deque([weak]) # 원형이므로 이차원 리스트로 큐에 넣기\n",
        "    visited = set() # 방문한 집합\n",
        "    visited.add(tuple(weak)) # 취약지점 집합에 넣어두기\n",
        "    print(visited)\n",
        "    for i in range(len(dist)): # 친구 수 만큼\n",
        "        print(i)\n",
        "        d = dist[i] # 친구가 갈 수 있는 거리\n",
        "        for _ in range(len(q)): \n",
        "            print('q',q)\n",
        "            current = q.popleft() # 방문해야하는 취약지점 list\n",
        "            print('current',current)\n",
        "            if d >= n-1: return i+1 # 만약에 거리가 \n",
        "            for p in current:\n",
        "                w = p # 방문할 취약지점\n",
        "                r = (p + d) % n # 친구가 방문 가능한 위치\n",
        "\n",
        "                # 방문하지 못 할 취약지점만 꺼내기\n",
        "                if w < r:\n",
        "                    temp = tuple(filter(lambda x: x < w or x > r, current)) \n",
        "                else:\n",
        "                    temp = tuple(filter(lambda x: x < w and x > r, current))\n",
        "                print('tmp',temp)\n",
        "\n",
        "                if len(temp) == 0: # 다 방문했다면 그게 정답 \n",
        "                    return (i + 1)\n",
        "                \n",
        "                elif temp not in visited: # 방문한 적이 없다면\n",
        "                    visited.add(temp) # 방문자에 추가하고\n",
        "                    q.append(list(temp)) # 방문해야할 취약지점 업데이트\n",
        "    return -1"
      ],
      "metadata": {
        "id": "r1n7SoAraDY5"
      },
      "execution_count": null,
      "outputs": []
    },
    {
      "cell_type": "markdown",
      "source": [
        "## 🔐 정답 분석\n",
        "### 📌 기억할것!\n",
        "- 미리 정렬해서 모두 탐색하지 않아도 최솟값을 구할 수 있음!\n",
        "- 방문하지 못했던 취약 지점을 기억해 두고, 모두 갈 수 있는지 확인함!\n",
        "- queue의 특징을 이용하여 리스트로 추가"
      ],
      "metadata": {
        "id": "fKeDQnC8fZQg"
      }
    }
  ]
}