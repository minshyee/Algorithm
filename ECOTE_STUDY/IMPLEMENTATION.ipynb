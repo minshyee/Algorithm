{
  "nbformat": 4,
  "nbformat_minor": 0,
  "metadata": {
    "colab": {
      "provenance": [],
      "authorship_tag": "ABX9TyMETlmYZ+j8r5AcXj6dSA1X"
    },
    "kernelspec": {
      "name": "python3",
      "display_name": "Python 3"
    },
    "language_info": {
      "name": "python"
    }
  },
  "cells": [
    {
      "cell_type": "markdown",
      "source": [
        "# 7. 럭키 스트레이트\n",
        "## 🏃‍♀️문제 분석\n",
        "- N: 점수\n",
        "- 자리수 왼쪽 = 오른쪽 : LUCKY\n",
        "- 자리수 왼쪽 $\\ne$ 오른쪽 : READY"
      ],
      "metadata": {
        "id": "KZQ2pRn1t7nX"
      }
    },
    {
      "cell_type": "code",
      "source": [
        "score = input()\n",
        "left = 0\n",
        "right = len(score) - 1\n",
        "lval = 0\n",
        "rval = 0\n",
        "\n",
        "if right % 2 == 0: # 점수가 홀수 개 들어오면-> 혹시 모르니까 처리한 부분\n",
        "\tprint('READY')\n",
        "else:\n",
        "\twhile left < right:\n",
        "\t\tlval += int(score[left])\n",
        "\t\trval += int(score[right])\n",
        "\t\tleft += 1\n",
        "\t\tright -= 1\n",
        "\tif lval == rval:\n",
        "\t\tprint('LUCKY')\n",
        "\telse:\n",
        "\t\tprint('READY')"
      ],
      "metadata": {
        "id": "Uv7Fwb_6t7SZ"
      },
      "execution_count": null,
      "outputs": []
    },
    {
      "cell_type": "markdown",
      "source": [
        "# 8. 문자열 재정렬\n",
        "## 🏃‍♀️문제 분석\n",
        "- 문자열로만 구성\n",
        "- 문자열끼리 정렬, 숫자는 합으로\n",
        "### 📌기억하기\n",
        "- `isnumeric()` 함수 사용하는게 좀 더 합리적일 수 있음!\n"
      ],
      "metadata": {
        "id": "tgpvbk8zL3db"
      }
    },
    {
      "cell_type": "code",
      "source": [
        "string = input()\n",
        "s = 0\n",
        "new = []\n",
        "\n",
        "for i in string:\n",
        "    if i >= '1'  and i <= '9':\n",
        "        s += int(i)\n",
        "    else:\n",
        "        new.append(i)\n",
        "new.sort()\n",
        "print(''.join(new) + str(s))"
      ],
      "metadata": {
        "id": "KMDgASnyglof"
      },
      "execution_count": null,
      "outputs": []
    },
    {
      "cell_type": "markdown",
      "source": [
        "# 9. 문자열 압축\n",
        "## 🏃‍♀️ 문제 분석\n",
        "- 압축된 문자열 중 가장 짧은 문자열을 만들 것!\n",
        "  - 1 <= s <= 1000\n",
        "  - s는 소문자로만 이루어짐\n",
        "  - 문자열 단위는 길어져도 됨!"
      ],
      "metadata": {
        "id": "00oVG-31MQjm"
      }
    },
    {
      "cell_type": "code",
      "source": [
        "s = 'abcabcabcabcdededededede'\n",
        "\n"
      ],
      "metadata": {
        "id": "A-byra9WMzGe"
      },
      "execution_count": 68,
      "outputs": []
    },
    {
      "cell_type": "markdown",
      "source": [
        "# 10. 자물쇠와 열쇠\n",
        "## 🏃‍♀️문제 분석"
      ],
      "metadata": {
        "id": "IT_NuzX-NUFU"
      }
    },
    {
      "cell_type": "code",
      "source": [],
      "metadata": {
        "id": "DxEuoY5SN9Iv"
      },
      "execution_count": null,
      "outputs": []
    },
    {
      "cell_type": "markdown",
      "source": [
        "# 11. 뱀\n",
        "## 🏃‍♀️문제 분석"
      ],
      "metadata": {
        "id": "s86UrGdPNiwq"
      }
    },
    {
      "cell_type": "markdown",
      "source": [
        "# 12. 기둥과 보\n",
        "## 🏃‍♀️문제 분석"
      ],
      "metadata": {
        "id": "ggC_GFPcNjk_"
      }
    },
    {
      "cell_type": "markdown",
      "source": [
        "# 13. 치킨 배달\n",
        "## 🏃‍♀️ 문제 분석\n",
        "- 도시의 치킨거리가 최소가 되어야 + M개의 치킨집만 남긴다.\n",
        "  - 도시의 치킨 거리는 모든 집의 치킨 거리 합\n",
        "  - 치킨 거리는 집과 가장 가까운 치킨집과의 거리\n",
        "\n",
        "- 맵 : 크기 N * N\n",
        "  - 2 <= N <=50\n",
        "- r,c는 1부터 시작\n",
        "- 0 : 빈칸 / 1 : 집 / 2 : 치킨집\n",
        "  - 1 < 집의 수 < 2N\n",
        "- 거리는 | 집r - 치킨집r | + |집c - 치킨집c| 로 계산\n",
        "- 최대 치킨 집 수 1 <= M <= 13\n"
      ],
      "metadata": {
        "id": "J_6tgrfsgGSU"
      }
    },
    {
      "cell_type": "code",
      "source": [
        "# 내 풀이 -> 스터디 하고 다시 풀어봄\n",
        "N, M = 5, 1\n",
        "# map = [[0,2,0,1,0],\n",
        "#        [1,0,1,0,0],\n",
        "#        [0,0,0,0,0],\n",
        "#        [2,0,0,1,1],\n",
        "#        [2,2,0,1,2]]\n",
        "map = [[1,2,0,0,0],\n",
        "       [1,2,0,0,0],\n",
        "       [1,2,0,0,0],\n",
        "       [1,2,0,0,0],\n",
        "       [1,2,0,0,0]]\n",
        "\n",
        "from itertools import combinations\n",
        "info = {1:[],2:[]}\n",
        "\n",
        "for i in range(N):\n",
        "  for j in range(N):\n",
        "    if map[i][j] == 1:\n",
        "      info[1].append((i+1,j+1))\n",
        "    elif map[i][j] == 2:\n",
        "      info[2].append((i+1, j+1))\n",
        "\n",
        "distances = []\n",
        "for comb in list(combinations(info[2], M)):\n",
        "  # print(comb)\n",
        "  res = 0\n",
        "  for i in info[1]:\n",
        "    dist=1000000\n",
        "    for j in comb:\n",
        "      dist = min(abs(i[0] - j[0]) + abs(i[1]-j[1]), dist)\n",
        "    res += dist\n",
        "  distances.append(res)\n",
        "print(distances)\n",
        "print('답', min(distances))\n",
        "    "
      ],
      "metadata": {
        "colab": {
          "base_uri": "https://localhost:8080/"
        },
        "id": "Nh04J53QjXb0",
        "outputId": "b800e7f7-2c33-4f87-dd2a-ff8efd0a231b"
      },
      "execution_count": 67,
      "outputs": [
        {
          "output_type": "stream",
          "name": "stdout",
          "text": [
            "[15, 12, 11, 12, 15]\n",
            "답 11\n"
          ]
        }
      ]
    },
    {
      "cell_type": "markdown",
      "source": [
        "# 14. 외벽 점검\n",
        "\n",
        "## 🏃‍♀️ 문제 분석\n",
        "- 취약 지점을 점검하기 위해 보내야 하는 최소 친구의 수\n",
        "- 외벽의 총 둘레는 1<= n <= 200\n",
        "- weak 취약지점의 정북 방향(0)으로부터의 거리 \n",
        "  - 0<= len(weak) <= 15\n",
        "  - 0 <= weak[i] < n\n",
        "- dist : 각 친구가 이동할 수 있는 거리\n",
        "  - 0<= len(dist) <= 8\n",
        "  - 0 <= dist[i] <= 100\n",
        "  - 각 친구는 반시계 혹은 시계 방향으로 이동할 수 있음\n",
        "- 취약지점을 전부 점검할 수 없는 경우 -> -1\n"
      ],
      "metadata": {
        "id": "VaTN0hytMNGD"
      }
    },
    {
      "cell_type": "code",
      "source": [
        "# 내 풀이가 없다... 문제 분석하기\n",
        "\n",
        "from itertools import permutations\n",
        "\n",
        "def solution(n, weak, dist):\n",
        "  w_length = len(weak)\n",
        "  # 길이를 2배로 늘려 원형 -> 일자\n",
        "  for i in range(w_length):\n",
        "    weak.append(weak[i] + n)\n",
        "    # [1,5,6,10] -> [1, 5, 6, 10, 1+12, 5+12, 6+12, 10+12]\n",
        "  answer = len(dist) + 1 # 나올 수 있는 최대 값보다 1큰 값 -> 최소를 구하기 위해 최대에서 시작\n",
        "  \n",
        "  # 0부터 length -1까지 모두 시작점으로 설정하여 돌아보기 \n",
        "  for start in range(w_length):\n",
        "    for friends in list(permutations(dist, len(dist))): # 가능한 모든 조함에 대해서 탐색 \n",
        "  # 모든 시작점에 대해 가능한 모든 친구 조합으로 확인하기 -> 완전 탐색    \n",
        "      count=1 # 투입할 친구의 수\n",
        "      position = weak[start] + friends[count-1] # 투입된 친구가 점검 가능한 마지막 위치\n",
        "      for idx in range(start, start + w_length): # 시작점부터 모든 취약 지점을 확인\n",
        "        # 점검 가능한 위치를 벗어나면\n",
        "        if position < weak[idx]:\n",
        "          count += 1 # 새로운 친구 투임\n",
        "          if count > len(dist): # 더 추가할 새로운 친구가 없다면 종료\n",
        "            break\n",
        "          position = weak[idx] + friends[count-1] # 새로운 친구가 들어와 점검 가능한 마지막 위치 업데이트 됨\n",
        "      answer = min(answer, count) # 최소값으로 답 갱신\n",
        "  # 다 처리하지 못했으면\n",
        "  if answer > len(dist):\n",
        "    return -1\n",
        "  return answer"
      ],
      "metadata": {
        "id": "rcphuCi-PkbW"
      },
      "execution_count": 51,
      "outputs": []
    },
    {
      "cell_type": "markdown",
      "source": [
        "## 🔐 정답 분석\n",
        "### 📌 기억할것!\n",
        "- 문제에서 확인할 데이터의 크기가 작다 -> 완전탐색으로 해결\n",
        "  - 투입해야 할 친구 수의 최솟값을 구해야 함\n",
        "  - 이 문제에서 가능한 전체 친구의 수 8\n",
        "  - 그러므로 모든 친구를 무작위로 나열하더라도 $_{8}\\mathrm{P}_{8}$=8! = 40,320 \n",
        "  \n",
        "- 원형으로 나열된 데이터 -> 길이를 2배로 늘려 원형을 일자로 변경"
      ],
      "metadata": {
        "id": "dRddkvSbT0Tf"
      }
    },
    {
      "cell_type": "code",
      "source": [
        "# 다른 풀이\n",
        "from collections import deque\n",
        "\n",
        "def solution(n, weak, dist):\n",
        "    dist.sort(reverse=True) # 거리 내림차순으로 정렬(최솟값을 찾아야 하므로 큰애들부터 탐색)\n",
        "    print(dist)\n",
        "    q = deque([weak]) # 원형이므로 이차원 리스트로 큐에 넣기\n",
        "    visited = set() # 방문한 집합\n",
        "    visited.add(tuple(weak)) # 취약지점 집합에 넣어두기\n",
        "    print(visited)\n",
        "    for i in range(len(dist)): # 친구 수 만큼\n",
        "        print(i)\n",
        "        d = dist[i] # 친구가 갈 수 있는 거리\n",
        "        for _ in range(len(q)): \n",
        "            print('q',q)\n",
        "            current = q.popleft() # 방문해야하는 취약지점 list\n",
        "            print('current',current)\n",
        "            if d >= n-1: return i+1 # 만약에 거리가 \n",
        "            for p in current:\n",
        "                w = p # 방문할 취약지점\n",
        "                r = (p + d) % n # 친구가 방문 가능한 위치\n",
        "\n",
        "                # 방문하지 못 할 취약지점만 꺼내기\n",
        "                if w < r:\n",
        "                    temp = tuple(filter(lambda x: x < w or x > r, current)) \n",
        "                else:\n",
        "                    temp = tuple(filter(lambda x: x < w and x > r, current))\n",
        "                print('tmp',temp)\n",
        "\n",
        "                if len(temp) == 0: # 다 방문했다면 그게 정답 \n",
        "                    return (i + 1)\n",
        "                \n",
        "                elif temp not in visited: # 방문한 적이 없다면\n",
        "                    visited.add(temp) # 방문자에 추가하고\n",
        "                    q.append(list(temp)) # 방문해야할 취약지점 업데이트\n",
        "    return -1"
      ],
      "metadata": {
        "id": "r1n7SoAraDY5"
      },
      "execution_count": 27,
      "outputs": []
    },
    {
      "cell_type": "markdown",
      "source": [
        "## 🔐 정답 분석\n",
        "### 📌 기억할것!\n",
        "- 미리 정렬해서 모두 탐색하지 않아도 최솟값을 구할 수 있음!\n",
        "- 방문하지 못했던 취약 지점을 기억해 두고, 모두 갈 수 있는지 확인함!\n",
        "- queue의 특징을 이용하여 리스트로 추가"
      ],
      "metadata": {
        "id": "fKeDQnC8fZQg"
      }
    }
  ]
}