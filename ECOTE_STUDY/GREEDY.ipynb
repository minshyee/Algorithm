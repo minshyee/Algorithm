{
  "nbformat": 4,
  "nbformat_minor": 0,
  "metadata": {
    "colab": {
      "provenance": [],
      "authorship_tag": "ABX9TyPH1NiOjPdG56pVqKIIh/1k"
    },
    "kernelspec": {
      "name": "python3",
      "display_name": "Python 3"
    },
    "language_info": {
      "name": "python"
    }
  },
  "cells": [
    {
      "cell_type": "markdown",
      "source": [
        "# Greedt Algorithm\n",
        "**현재 상황에서 지금 당장 좋은 것만 고르는 방법**\n",
        "- 문제를 풀기 위한 최소한의 아이디어를 떠올릴 수 있는 능력이 중요\n",
        "- 정당성 분석은 필수! → 단순히 가장 좋은 것만 고려해도 최적해가 보장되는지 검토\n",
        "\n",
        "*보통 그리디 문제는 탐욕법으로 얻은 해가 최적의 해가 되도록 설계한다*"
      ],
      "metadata": {
        "id": "N1kOPoAAJSDJ"
      }
    },
    {
      "cell_type": "markdown",
      "source": [
        "## PART 3 문제"
      ],
      "metadata": {
        "id": "cAqP2IpgJzbx"
      }
    },
    {
      "cell_type": "code",
      "source": [
        "# 1\n",
        "# 공포도 X -> 모험가 X명 이상으로 구성 되어야 -> 최대 몇개의 그룹이 가능할까?\n",
        "\n",
        "N = int(input())\n",
        "travler = list(map(int, input().split()))\n",
        "\n",
        "# 최대로 만들어야 하니까 작은 애들부터 만들면 많이 만들 수 있음..? or 최대로 만들어야 하니까 큰애들 먼저 다 집어넣고 이거 아니지 \n",
        "# 작은 애를 어떻게 구할까 -> sorting\n",
        "cnt = 0\n",
        "groups = 0\n",
        "for fear in sorted(travler):\n",
        "  cnt += 1\n",
        "  if fear == cnt:\n",
        "    groups += 1 \n",
        "    cnt = 0\n",
        "print(groups)"
      ],
      "metadata": {
        "colab": {
          "base_uri": "https://localhost:8080/"
        },
        "id": "Q3kSu23MKMnK",
        "outputId": "459fd867-350e-42f1-b73f-03e942e3fd49"
      },
      "execution_count": 5,
      "outputs": [
        {
          "output_type": "stream",
          "name": "stdout",
          "text": [
            "5\n",
            "2 3 1 2 2 \n",
            "2\n"
          ]
        }
      ]
    },
    {
      "cell_type": "code",
      "source": [
        "def solution_1():\n",
        "  N = int(input())\n",
        "  travler = list(map(int, input().split()))\n",
        "  cnt = 0\n",
        "  groups = 0\n",
        "  for fear in sorted(travler):\n",
        "    cnt += 1\n",
        "    if fear == cnt:\n",
        "      groups += 1 \n",
        "      cnt = 0\n",
        "  return groups"
      ],
      "metadata": {
        "id": "21y2oScTLAFS"
      },
      "execution_count": 6,
      "outputs": []
    },
    {
      "cell_type": "code",
      "source": [
        "solution_1()"
      ],
      "metadata": {
        "colab": {
          "base_uri": "https://localhost:8080/"
        },
        "id": "UGFf2ymDLwUW",
        "outputId": "b2237a92-e80a-4dc9-e0b7-0d80890466b5"
      },
      "execution_count": 7,
      "outputs": [
        {
          "name": "stdout",
          "output_type": "stream",
          "text": [
            "5\n",
            "2 3 1 2 2\n"
          ]
        },
        {
          "output_type": "execute_result",
          "data": {
            "text/plain": [
              "2"
            ]
          },
          "metadata": {},
          "execution_count": 7
        }
      ]
    },
    {
      "cell_type": "code",
      "source": [
        "#2\n",
        "# x 혹은 +을 넣어 가장 큰 수 만들기 \n",
        "# 제약\n",
        "# - 연산은 항상 왼쪽부터 순서대로\n",
        "# - 만들어질 수 있는 가장 큰 수 20억 이하\n",
        "\n",
        "S = input()\n",
        "max_numb = int(S[0])\n",
        "\n",
        "# 0이나 1이면 더하는게 수가 커짐 -> 나머지는 곱이 크다\n",
        "for n in S[1:]:\n",
        "  n = int(n)\n",
        "  if max_numb < 2 or n < 2:\n",
        "    max_numb += n\n",
        "  else: max_numb *= n\n",
        "print(max_numb)"
      ],
      "metadata": {
        "colab": {
          "base_uri": "https://localhost:8080/"
        },
        "id": "BILpYV1vM4nc",
        "outputId": "ce122744-74ca-4fc7-f021-478094e5cb0a"
      },
      "execution_count": 10,
      "outputs": [
        {
          "output_type": "stream",
          "name": "stdout",
          "text": [
            "567\n",
            "210\n"
          ]
        }
      ]
    },
    {
      "cell_type": "code",
      "source": [],
      "metadata": {
        "id": "FJ8dVfU5O6_O"
      },
      "execution_count": null,
      "outputs": []
    }
  ]
}