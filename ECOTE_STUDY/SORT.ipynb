{
  "nbformat": 4,
  "nbformat_minor": 0,
  "metadata": {
    "colab": {
      "provenance": [],
      "toc_visible": true,
      "authorship_tag": "ABX9TyPh7/w0r7PBq3oSWKj4wAOl"
    },
    "kernelspec": {
      "name": "python3",
      "display_name": "Python 3"
    },
    "language_info": {
      "name": "python"
    }
  },
  "cells": [
    {
      "cell_type": "markdown",
      "source": [
        "# 정렬 알고리즘\n",
        "----\n"
      ],
      "metadata": {
        "id": "QEwkVNTq7fpv"
      }
    },
    {
      "cell_type": "markdown",
      "source": [
        "# 좌표압축\n",
        "[문제 링크](https://www.acmicpc.net/problem/18870)\n",
        "\n",
        "## 🏃‍♀️ 문제 분석\n",
        "$X_i$의 좌표는 $X_i > X_j$ 의 개수만큼 압축됨"
      ],
      "metadata": {
        "id": "aMbvokC97n6X"
      }
    },
    {
      "cell_type": "code",
      "source": [
        "import numpy as np\n",
        "n = int(input())\n",
        "numbers = list(map(int, input().split()))\n",
        "ns = np.array(numbers)\n",
        "res = []\n",
        "for i in range(len(numbers)):\n",
        "  x_i = numbers[i]\n",
        "  res.append(sum(np.unique(np.subtract(ns,x_i)) < 0))\n",
        "res"
      ],
      "metadata": {
        "colab": {
          "base_uri": "https://localhost:8080/"
        },
        "id": "UbBPe9iS8-9i",
        "outputId": "06038fb7-c035-4336-dd1f-5318c3cc5849"
      },
      "execution_count": 26,
      "outputs": [
        {
          "name": "stdout",
          "output_type": "stream",
          "text": [
            "6\n",
            "1000 999 1000 999 1000 999\n"
          ]
        },
        {
          "output_type": "execute_result",
          "data": {
            "text/plain": [
              "[1, 0, 1, 0, 1, 0]"
            ]
          },
          "metadata": {},
          "execution_count": 26
        }
      ]
    },
    {
      "cell_type": "markdown",
      "source": [
        "### 📌 기억하기\n",
        "\n",
        "- numpy 잘 활용하기\n",
        "  - `np.unique()` : set 기능을 하는 메서드\n",
        "  - `np.subtract(arr, n)` : arr의 모든 요소에서 n을 뺴주는 메서드"
      ],
      "metadata": {
        "id": "-xwsiEp6Bfbm"
      }
    },
    {
      "cell_type": "markdown",
      "source": [
        "# 1181 번 단어 정렬\n",
        "[문제 링크](https://www.acmicpc.net/problem/1181)\n",
        "\n",
        "## 🏃‍♀️ 문제 분석"
      ],
      "metadata": {
        "id": "5nGTRB3X-NfC"
      }
    },
    {
      "cell_type": "code",
      "source": [],
      "metadata": {
        "id": "OlzvQt31-VPF"
      },
      "execution_count": null,
      "outputs": []
    },
    {
      "cell_type": "markdown",
      "source": [
        "### 📌 기억하기"
      ],
      "metadata": {
        "id": "W7urKvvfCiKZ"
      }
    },
    {
      "cell_type": "markdown",
      "source": [
        "# 1026번 보물\n",
        "\n",
        "[문제 링크](https://www.acmicpc.net/problem/1026)\n",
        "\n",
        "## 🏃‍♀️ 문제 분석"
      ],
      "metadata": {
        "id": "Csw3X9yDCkuM"
      }
    },
    {
      "cell_type": "code",
      "source": [],
      "metadata": {
        "id": "xSYA1SI3CkIt"
      },
      "execution_count": null,
      "outputs": []
    },
    {
      "cell_type": "markdown",
      "source": [
        "### 📌 기억하기"
      ],
      "metadata": {
        "id": "UoKfAUY7CxpR"
      }
    },
    {
      "cell_type": "code",
      "source": [],
      "metadata": {
        "id": "u1bK1UZ3C0MC"
      },
      "execution_count": null,
      "outputs": []
    }
  ]
}