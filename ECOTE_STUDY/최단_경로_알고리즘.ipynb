{
  "nbformat": 4,
  "nbformat_minor": 0,
  "metadata": {
    "colab": {
      "provenance": [],
      "authorship_tag": "ABX9TyPAIaAYDso+nAWBJ9C6/uP0",
      "include_colab_link": true
    },
    "kernelspec": {
      "name": "python3",
      "display_name": "Python 3"
    },
    "language_info": {
      "name": "python"
    }
  },
  "cells": [
    {
      "cell_type": "markdown",
      "metadata": {
        "id": "view-in-github",
        "colab_type": "text"
      },
      "source": [
        "<a href=\"https://colab.research.google.com/github/minshyee/Algorithm/blob/master/ECOTE_STUDY/%EC%B5%9C%EB%8B%A8_%EA%B2%BD%EB%A1%9C_%EC%95%8C%EA%B3%A0%EB%A6%AC%EC%A6%98.ipynb\" target=\"_parent\"><img src=\"https://colab.research.google.com/assets/colab-badge.svg\" alt=\"Open In Colab\"/></a>"
      ]
    },
    {
      "cell_type": "markdown",
      "source": [
        "# 최단 경로 알고리즘\n",
        "### 문제유형\n",
        "\n",
        "- 한 지점에서 다른 한 지점까지의 최단 경로\n",
        "- 한 지점에서 다른 모든 지점까지의 최단 경로\n",
        "- 모든 지점에서 다른 모든 지점까지의 최단 경로\n",
        "\n",
        "지점 - 노드, 도로 - 간선\n",
        "## 다익스트라 알고리즘 : 간단한 구현\n",
        "\n",
        "- 특정한 노드 → 다른 모든 노드의 최단경로 모두 구함\n",
        "- 음의 간선이 없어야 정상작동 EX. 현실 도록\n",
        "- 그리디 알고리즘의 일종 + DP(각 노드간의 최단경로를 더한다는 관점에서)\n",
        "    - 매 상황에서 가장 비용이 적은 노드 선택\n",
        "- 동작과정\n",
        "    1. 출발노드 설정\n",
        "    2. 최단거리 테이블 초기화\n",
        "    3. 방문하지 않은 노드 중 최단거리가 가장 짧은 노드 선택(그리디적 면모)\n",
        "        - 방문한 노드까지의 최단 거리는 변하지 않음\n",
        "    4. 해당 노드를 거쳐 다른 노드로 가는 비용 계산 → 최단거리 테이블 갱신\n",
        "    5. 3, 4번 반복\n",
        "- 특징\n",
        "    - 그리디 알고리즘\n",
        "        - 매 상황에서 방문하지 않은 가장 비용이 적은 노드를 선택\n",
        "    - 한 번 처리된 노드의 최단 거리는 고정\n",
        "        - 한 단계당 하나의 노드에 대한 최단 거리를 확실히 찾음\n",
        "    - 최단 경로 테이블에 출발 노드부터 각 노드까지의 최단 경로 정보가 저장\n",
        "        - 완벽한 형태의 최단 경로를 구하려면 추가 기능을 넣어야 함\n",
        "- 결과\n",
        "    - $O(V)$번에 걸쳐 최단 거리 노드를 매번 선형탐색\n",
        "\n",
        "        → 시간 복잡도 $O(V^2)$\n",
        "\n",
        "    - 코딩테스트의 문제에서 전체 노드의 개수가 5000개 이하라면 풀이 가능\n",
        "        - 노드의 개수가 더 많다면? → 1억번 이상의 연산 소요 → 시간초과 → 효율적인 알고리즘 필요"
      ],
      "metadata": {
        "id": "14vh5lFmn4nl"
      }
    },
    {
      "cell_type": "code",
      "execution_count": null,
      "metadata": {
        "id": "VpEyz25BjvUu"
      },
      "outputs": [],
      "source": [
        "import sys\n",
        "input = sys.stdin.readline\n",
        "INF = int(1e9) # 10억\n",
        "\n",
        "# 노드의 개수, 간선의 개수 받기\n",
        "n, m = map(int,input().split())\n",
        "# 시작 노드 번호 입력받기\n",
        "start = int(input())\n",
        "\n",
        "# 각 노드에 연결되어 있는 노드에 대한 정보를 담는 테이블 생성\n",
        "graph = [[] for i in range(n+1)]\n",
        "# 방문 체크하는 목적의 리스트 생성\n",
        "visited = [False] * (n+1)\n",
        "# 최단 거리 테이블 무한으로 초기화\n",
        "dist = [INF] * (n+1)\n",
        "\n",
        "# 모든 간선 정보 입력받기\n",
        "for _ in range(m):\n",
        "  a,b,c = map(int, input.split())\n",
        "  graph[a].append((b,c)) # a번 노드에서 b번 노드로 가는 비용 -> c\n",
        "\n",
        "def get_smallest_node():\n",
        "  '''\n",
        "  방문하지 않은 노드 중에서 최단 거리인 노드의 번호를 반환\n",
        "  '''\n",
        "  min_value = INF\n",
        "  index = 0 # 최단거리의 노드 idx\n",
        "  for i in range(1, n+1):\n",
        "    if dist[i] < min_value and not visited[i]:\n",
        "      min_value = dist[i]\n",
        "      index = i\n",
        "  return index\n",
        "\n",
        "def dijkstra(start):\n",
        "  # 시작 노드 초기화\n",
        "  dist[start] = 0\n",
        "  visited[start] = 0\n",
        "  for j in graph[start]:\n",
        "    dist[j[0]] = j[1]\n",
        "  # 시작 노드를 제외한 전체 n-1개의 노드에 대해 반복\n",
        "  for i in range(n-1):\n",
        "    now = get_smallest_node() # 현재 최단거리의 노드 찿기\n",
        "    visited[now] = True # 방문처리\n",
        "\n",
        "    # 현재 노드와 연결된 다른 노드 확인\n",
        "    for j in graph[now]:\n",
        "      cost = dist[now] + j[1]\n",
        "      # 현재 노드를 거치는 것이 최단 경로인 경우\n",
        "      if cost < dist[j[0]]:\n",
        "        dist[j[0]] = cost\n",
        "\n",
        "# 다익스트라 알고리즘 수행\n",
        "dijkstra(start)\n",
        "\n",
        "# 모든 노드에 대한 최단 거리 출력\n",
        "for i in range(1, n+1):\n",
        "  if dist[i] == INF: # 도달할 수 없는 경우\n",
        "    print('INFINITY')\n",
        "  else:\n",
        "    print(dist[i])"
      ]
    }
  ]
}